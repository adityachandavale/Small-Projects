{
 "cells": [
  {
   "cell_type": "code",
   "execution_count": 5,
   "id": "7f787a5b",
   "metadata": {},
   "outputs": [
    {
     "name": "stdout",
     "output_type": "stream",
     "text": [
      "{'device_id': '326FF665-59C4-34F9-971E-212ED443620A', 'location': {'geometry': {'type': 'Point', 'coordinates': [73.837823, 18.498323, 487.03]}, 'recorded_at': '2021-07-18T11:31:58.658Z', 'accuracy': 17.79, 'bearing': 180, 'speed': 1.41}, 'device_status': {'data': {'recorded_at': '2021-07-18T11:36:49.687Z', 'reason': 'tracking_stopped'}, 'value': 'inactive'}, 'views': {'share_url': 'https://trck.at/nxafg4r', 'embed_url': 'https://embed.hypertrack.com/devices/326FF665-59C4-34F9-971E-212ED443620A?publishable_key=GXOlzTsdr7yOKWWa-9FwnjE34Y2_XsPd2Tjty6QhANpmTaeWLc4LPceaoNujWIvUvpeGtrUEdEe4-ax8sR25kQ'}, 'device_info': {'timezone': 'Asia/Kolkata', 'os_name': 'Android', 'device_brand': 'samsung', 'sdk_version': '5.2.5', 'device_model': 'SM-M317F', 'network_operator': 'AIRTEL', 'name': 'locationapp98', 'os_version': '11', 'os_hardware_identifier': '0cc2081014285f0c'}, 'registered_at': '2021-07-18T10:45:15.245Z', 'metadata': {'email': 'locationapp98@gmail.com'}, 'name': 'locationapp98'}\n"
     ]
    }
   ],
   "source": [
    " # GET DEVICE LOCATION AND STATUS\n",
    "\n",
    "from hypertrack.rest import Client\n",
    "\n",
    "from hypertrack.exceptions import HyperTrackException\n",
    "\n",
    "account_id = \"OEwdxUS6GiQyk8U4pc8SgI0B09E\"\n",
    "\n",
    "secret_key = \"lGD9vqlg0ynw5ZtVa0FdDiThXnlafwTbdJcMEbWTHHTIBB4iZhlZ3w\"\n",
    "\n",
    "hypertrack = Client(account_id, secret_key)\n",
    "\n",
    "device_id = \"326FF665-59C4-34F9-971E-212ED443620A\"\n",
    "\n",
    "device = hypertrack.devices.get(device_id)\n",
    "\n",
    "print(device)"
   ]
  },
  {
   "cell_type": "code",
   "execution_count": 26,
   "id": "33e6fbcf",
   "metadata": {},
   "outputs": [
    {
     "name": "stdout",
     "output_type": "stream",
     "text": [
      "[18.498323, 73.837823]\n"
     ]
    }
   ],
   "source": [
    "key_list = list(device.keys())\n",
    "val_list = list(device.values())\n",
    "location_keys = list(val_list[1].keys())\n",
    "location_values = list(val_list[1].values())\n",
    "coordinates_values = list(location_values[0].values())\n",
    "coordinates = coordinates_values[1]\n",
    "localtion = None\n",
    "for i in coordinates:\n",
    "    location = [coordinates[1],coordinates[0]]\n",
    "\n",
    "print(location)"
   ]
  },
  {
   "cell_type": "code",
   "execution_count": 8,
   "id": "3350a251",
   "metadata": {},
   "outputs": [
    {
     "data": {
      "text/plain": [
       "<Response [200]>"
      ]
     },
     "execution_count": 8,
     "metadata": {},
     "output_type": "execute_result"
    }
   ],
   "source": [
    "# Geofence Rajaram bridge\n",
    "\n",
    "import requests\n",
    "\n",
    "payload = {\n",
    "    \"location\": {\n",
    "        \"coordinates\": [\n",
    "          73.829374, 18.488007\n",
    "        ],\n",
    "        \"type\" : \"Point\"\n",
    "    },\n",
    "    \"radius\" : 150,\n",
    "    \"metadata\": {\n",
    "        \"gig_type\": \"Tracking\",\n",
    "        \"order\": \"Reached Rajaram Bridge\"\n",
    "    },\n",
    "    \"last_updated_within\": 24\n",
    "}\n",
    "\n",
    "response = requests.request(\"POST\", \"https://v3.api.hypertrack.com/devices/nearby\", data=json.dumps(payload).encode(\"utf-8\"), auth=(\"OEwdxUS6GiQyk8U4pc8SgI0B09E\", \"lGD9vqlg0ynw5ZtVa0FdDiThXnlafwTbdJcMEbWTHHTIBB4iZhlZ3w\"))\n",
    "response"
   ]
  },
  {
   "cell_type": "code",
   "execution_count": 9,
   "id": "29ba6a24",
   "metadata": {},
   "outputs": [
    {
     "data": {
      "text/plain": [
       "<Response [200]>"
      ]
     },
     "execution_count": 9,
     "metadata": {},
     "output_type": "execute_result"
    }
   ],
   "source": [
    "# Geofence Company\n",
    "\n",
    "import requests\n",
    "\n",
    "payload = {\n",
    "    \"location\": {\n",
    "        \"coordinates\": [\n",
    "          73.824893, 18.619651\n",
    "        ],\n",
    "        \"type\" : \"Point\"\n",
    "    },\n",
    "    \"radius\" : 150,\n",
    "    \"metadata\": {\n",
    "        \"gig_type\": \"Tracking\",\n",
    "        \"order\": \"Reached Company\"\n",
    "    },\n",
    "    \"last_updated_within\": 24\n",
    "}\n",
    "\n",
    "response = requests.request(\"POST\", \"https://v3.api.hypertrack.com/devices/nearby\", data=json.dumps(payload).encode(\"utf-8\"), auth=(\"OEwdxUS6GiQyk8U4pc8SgI0B09E\", \"lGD9vqlg0ynw5ZtVa0FdDiThXnlafwTbdJcMEbWTHHTIBB4iZhlZ3w\"))\n",
    "response"
   ]
  },
  {
   "cell_type": "code",
   "execution_count": null,
   "id": "ab00e182",
   "metadata": {},
   "outputs": [],
   "source": []
  }
 ],
 "metadata": {
  "kernelspec": {
   "display_name": "Python 3",
   "language": "python",
   "name": "python3"
  },
  "language_info": {
   "codemirror_mode": {
    "name": "ipython",
    "version": 3
   },
   "file_extension": ".py",
   "mimetype": "text/x-python",
   "name": "python",
   "nbconvert_exporter": "python",
   "pygments_lexer": "ipython3",
   "version": "3.8.8"
  }
 },
 "nbformat": 4,
 "nbformat_minor": 5
}
